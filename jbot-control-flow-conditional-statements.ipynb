{
 "cells": [
  {
   "cell_type": "markdown",
   "metadata": {},
   "source": [
    "## Logical Operators\n",
    "\n",
    "In previous lessons, you used comparison operators, which allow you to compare values such as checking whether one value is greater than another (e.g. `<`, `>`). You also used assignment operators (e.g. `+=`), which allow you to set a variable to a new value based on an arithmetic operation or some other calculation.\n",
    "\n",
    "In this lesson, you will learn about another type of operator: logical. In conditional statements, logical operators are very useful for checking for multiple conditions as well as creating combinations of conditions to control the flow of code. \n",
    "\n",
    "For example, you can use:\n",
    "\n",
    "* `and` to provide multiple conditions that all have to be met before executing code\n",
    "* `or` to provide multiple conditions, of which only one has to be met before executing code\n",
    "* `not` to execute code only if the stated condition is not met (note: you can use `not` in combination with `and` or `or` to check whether multiple conditions are not met)\n",
    "\n",
    "In this lesson, you will use these logical operators to write conditional statements that determine whether a specific combination of conditions is met before executing code. \n",
    "\n",
    "\n",
    "## Glob Package\n",
    "\n",
    "The `glob` package in `Python` is very useful for creating lists of directory and file names on your computer. It contains a module also called `glob` that provides this functionality. \n",
    "\n",
    "For example, you can use `glob.glob(\"path/*\")` to get a list of all items in a directory, and assign this list to a variable called `filelist`:"
   ]
  },
  {
   "cell_type": "code",
   "execution_count": 1,
   "metadata": {},
   "outputs": [
    {
     "name": "stdout",
     "output_type": "stream",
     "text": [
      "['c:/users/jd/earth-analytics-bootcamp/data\\\\avg-monthly-precip.txt', 'c:/users/jd/earth-analytics-bootcamp/data\\\\avg-monthly-temp.txt', 'c:/users/jd/earth-analytics-bootcamp/data\\\\avg-precip-months-seasons.csv', 'c:/users/jd/earth-analytics-bootcamp/data\\\\avg-temp-months-seasons.csv', 'c:/users/jd/earth-analytics-bootcamp/data\\\\monthly-precip-2002-2013.csv', 'c:/users/jd/earth-analytics-bootcamp/data\\\\months.txt', 'c:/users/jd/earth-analytics-bootcamp/data\\\\precip-2002-2013-months-seasons.csv', 'c:/users/jd/earth-analytics-bootcamp/data\\\\snow-2007-to-2017-months-seasons.csv', 'c:/users/jd/earth-analytics-bootcamp/data\\\\snowfall-2007-to-2017.csv']\n"
     ]
    }
   ],
   "source": [
    "# import necessary package\n",
    "import glob\n",
    "\n",
    "# create a list of all items in the data directory identified by the full path to the directory\n",
    "filelist = glob.glob('c:/users/jd/earth-analytics-bootcamp/data/*')\n",
    "\n",
    "# print the new list\n",
    "print(filelist)"
   ]
  },
  {
   "cell_type": "markdown",
   "metadata": {},
   "source": [
    "Note that the `*` indicates that you want to list all items in the directory provided, which in this case is the `data` directory. Later in this lesson, you will learn how to expand on this syntax to search by keywords. \n",
    "\n",
    "You can also use `glob.glob` in conjunction with `os.chdir` to set relative paths. Again, you are specifying that you want to include all items in the subdirectory `data`. "
   ]
  },
  {
   "cell_type": "code",
   "execution_count": 2,
   "metadata": {},
   "outputs": [
    {
     "name": "stdout",
     "output_type": "stream",
     "text": [
      "['data\\\\avg-monthly-precip.txt', 'data\\\\avg-monthly-temp.txt', 'data\\\\avg-precip-months-seasons.csv', 'data\\\\avg-temp-months-seasons.csv', 'data\\\\monthly-precip-2002-2013.csv', 'data\\\\months.txt', 'data\\\\precip-2002-2013-months-seasons.csv', 'data\\\\snow-2007-to-2017-months-seasons.csv', 'data\\\\snowfall-2007-to-2017.csv']\n"
     ]
    }
   ],
   "source": [
    "# import necessary packages\n",
    "import glob\n",
    "import os\n",
    "\n",
    "# set the working directory to the `earth-analytics-bootcamp` directory\n",
    "# replaced code below as needed with the path to your working directory\n",
    "os.chdir(\"c:/users/jd/earth-analytics-bootcamp/\")\n",
    "\n",
    "# create a list of all items in the data directory identified by a relative path to the directory\n",
    "filelist = glob.glob('data/*')\n",
    "\n",
    "# print the new list\n",
    "print(filelist)"
   ]
  },
  {
   "cell_type": "markdown",
   "metadata": {},
   "source": [
    "## Control Flow With Conditional Statements\n",
    "\n",
    "Using `glob.glob` to query directory and file names can be very useful to check that a certain file or directory exists before you execute code.\n",
    "\n",
    "For example, you have seen that in this course, you frequently use the `data` directory to download from `Figshare.com`. \n",
    "\n",
    "If you were working toward automating this task, it would be a great idea to check that the `data` directory exists before you attempted to download files to it, right?\n",
    "\n",
    "You can do this easily by using a conditional statement and `glob.glob()`. \n",
    "\n",
    "Rather than specifying a subdirectory name, as in the example above, you will simply ask for everything in the working directory by removing the subdirectory name for `data` and replacing it with an asterisk `*`."
   ]
  },
  {
   "cell_type": "code",
   "execution_count": 3,
   "metadata": {},
   "outputs": [
    {
     "name": "stdout",
     "output_type": "stream",
     "text": [
      "['atom-test', 'data', 'debug.log', 'ea-bootcamp-day-2', 'ea-bootcamp-day-3', 'ea-bootcamp-day-4', 'ea-bootcamp-day-5', 'ea-bootcamp-day-7', 'ea-bootcamp-day-8', 'ea-bootcamp-hw-1-jammy-bot', 'ea-bootcamp-hw-2-jbot', 'ea-bootcamp-practice-data-structures', 'example-repository', 'markdown']\n"
     ]
    }
   ],
   "source": [
    "# import necessary packages\n",
    "import glob\n",
    "import os\n",
    "\n",
    "# set the working directory to the `earth-analytics-bootcamp` directory\n",
    "# replaced code below as needed with the path to your working directory\n",
    "os.chdir(\"c:/users/jd/earth-analytics-bootcamp/\")\n",
    "\n",
    "# create a list of all items in the earth-analytics-bootcamp directory \n",
    "directorylist = glob.glob('*')\n",
    "\n",
    "# print the new list\n",
    "print(directorylist)            "
   ]
  },
  {
   "cell_type": "markdown",
   "metadata": {},
   "source": [
    "Now that you have a list of the items in the directory, you can use this list to check for the `data` directory and print a certain message if it is in `directorylist`."
   ]
  },
  {
   "cell_type": "code",
   "execution_count": 4,
   "metadata": {},
   "outputs": [
    {
     "name": "stdout",
     "output_type": "stream",
     "text": [
      "The data directory exists. Proceed!\n"
     ]
    }
   ],
   "source": [
    "# check whether the data directory name exists in the list and print message accordingly\n",
    "if \"data\" in directorylist:\n",
    "    print(\"The data directory exists. Proceed!\")\n",
    "\n",
    "else:\n",
    "    print(\"The data directory does NOT exist. Create the data directory before continuing!\")"
   ]
  },
  {
   "cell_type": "markdown",
   "metadata": {},
   "source": [
    "### Multiple Conditions\n",
    "\n",
    "You can also use multiple conditions to check for more than directory, such as checking for both the `data` directory and the `ea-bootcamp-day-5` directory. \n",
    "\n",
    "Recall that you can combine multiple conditions using `and`, and that both conditions have to be true, in order to execute the code under `if`. \n",
    "\n",
    "This means that only one condition has to fail, in order for the conditional statement to execute code under `else`. "
   ]
  },
  {
   "cell_type": "code",
   "execution_count": 5,
   "metadata": {},
   "outputs": [
    {
     "name": "stdout",
     "output_type": "stream",
     "text": [
      "Both directories exist. Proceed!\n"
     ]
    }
   ],
   "source": [
    "# check whether the data directory exists and print message accordingly\n",
    "if \"data\" in directorylist and \"ea-bootcamp-day-5\" in directorylist:\n",
    "    print(\"Both directories exist. Proceed!\")\n",
    "\n",
    "else:\n",
    "    print(\"One of these directories does NOT exist. Create the necessary directories before continuing!\")    "
   ]
  },
  {
   "cell_type": "markdown",
   "metadata": {},
   "source": [
    "You could also add `not` to check that items are not in a list before continuing. For example, you can check for some directories that should have been replaced or deleted. "
   ]
  },
  {
   "cell_type": "code",
   "execution_count": 6,
   "metadata": {},
   "outputs": [
    {
     "name": "stdout",
     "output_type": "stream",
     "text": [
      "Both directories do NOT exist. Proceed!\n"
     ]
    }
   ],
   "source": [
    "# check whether old directories that should be removed still exist and print message accordingly\n",
    "if \"old-data\" not in directorylist and \"old_ea-bootcamp-day-5\" not in directorylist:\n",
    "    print(\"Both directories do NOT exist. Proceed!\")\n",
    "\n",
    "else:\n",
    "    print(\"One of these directories exists. Delete these directories before continuing!\")  "
   ]
  },
  {
   "cell_type": "markdown",
   "metadata": {},
   "source": [
    "### Search Keywords Using Glob\n",
    "\n",
    "Next, imagine that you want to create a list of filenames in the `data` directory but you only want the files that include `precip` in the filename. \n",
    "\n",
    "You also know that you should have a certain number of files that include `precip` in the filename and you want to check that you have that number before additional code is executed. \n",
    "\n",
    "For example, at this point in the course, you should have four files in the data directory with `precip` in the filename.  \n",
    "\n",
    "Begin by adding a wild card search in your `glob.glob()` code line. This easily done by adding the keyword enclosed in asterisks `*` to the path (e.g. `/data/*precip*`). "
   ]
  },
  {
   "cell_type": "code",
   "execution_count": 7,
   "metadata": {},
   "outputs": [
    {
     "name": "stdout",
     "output_type": "stream",
     "text": [
      "['data\\\\avg-monthly-precip.txt', 'data\\\\avg-precip-months-seasons.csv', 'data\\\\monthly-precip-2002-2013.csv', 'data\\\\precip-2002-2013-months-seasons.csv']\n"
     ]
    }
   ],
   "source": [
    "# import necessary packages\n",
    "import glob\n",
    "import os\n",
    "\n",
    "# set the working directory to the `earth-analytics-bootcamp` directory\n",
    "# replaced code below as needed with the path to your working directory\n",
    "os.chdir(\"c:/users/jd/earth-analytics-bootcamp/\")\n",
    "\n",
    "# create a list of all items in the data directory identified by a relative path to the directory\n",
    "filelist = glob.glob('data/*precip*')\n",
    "\n",
    "# print the new list\n",
    "print(filelist)            "
   ]
  },
  {
   "cell_type": "markdown",
   "metadata": {},
   "source": [
    "You can see that `filelist` has been created as a `Python` list, which means that you can query the length of the list using `len(listname)`."
   ]
  },
  {
   "cell_type": "code",
   "execution_count": 8,
   "metadata": {},
   "outputs": [
    {
     "data": {
      "text/plain": [
       "4"
      ]
     },
     "execution_count": 8,
     "metadata": {},
     "output_type": "execute_result"
    }
   ],
   "source": [
    "# print the lenght of filelist\n",
    "len(filelist)"
   ]
  },
  {
   "cell_type": "markdown",
   "metadata": {},
   "source": [
    "Now you can set up a conditional statement to check whether the length of the created list meets a certain criteria before executing additional code.\n",
    "\n",
    "This can be very useful to check that all of the files that your code will need are in the directory. "
   ]
  },
  {
   "cell_type": "code",
   "execution_count": 9,
   "metadata": {},
   "outputs": [
    {
     "name": "stdout",
     "output_type": "stream",
     "text": [
      "The data directory contains the correct number of files with precip in the name. Code can continue to execute.\n"
     ]
    }
   ],
   "source": [
    "# check if filelist contains four filenames\n",
    "if len(filelist) == 4:\n",
    "    print(\"The data directory contains the correct number of files with precip in the name. Code can continue to execute.\")\n",
    "    \n",
    "else:\n",
    "    print(\"The data directory does NOT contain the correct number of files with precip in the name. Check list of files.\")\n",
    "    print(filelist)    "
   ]
  },
  {
   "cell_type": "markdown",
   "metadata": {},
   "source": [
    "## Optional Challenge 1\n",
    "\n",
    "Test your `Python` skills to:\n",
    "\n",
    "Use `glob.glob` to make a list of all **.csv** files in the `data` directory."
   ]
  },
  {
   "cell_type": "code",
   "execution_count": 10,
   "metadata": {},
   "outputs": [
    {
     "name": "stdout",
     "output_type": "stream",
     "text": [
      "['data\\\\avg-precip-months-seasons.csv', 'data\\\\avg-temp-months-seasons.csv', 'data\\\\monthly-precip-2002-2013.csv', 'data\\\\precip-2002-2013-months-seasons.csv', 'data\\\\snow-2007-to-2017-months-seasons.csv', 'data\\\\snowfall-2007-to-2017.csv']\n"
     ]
    }
   ],
   "source": [
    "# import necessary packages\n",
    "import glob\n",
    "import os\n",
    "\n",
    "# set the working directory to the `earth-analytics-bootcamp` directory\n",
    "os.chdir(\"c:/users/jd/earth-analytics-bootcamp/\")\n",
    "\n",
    "# make a list of all .csv files in the data directory\n",
    "csv_list = glob.glob('data/*.csv')\n",
    "\n",
    "# print the new list\n",
    "print(csv_list)  "
   ]
  },
  {
   "cell_type": "markdown",
   "metadata": {},
   "source": [
    "## Optional Challenge 2\n",
    "\n",
    "Test your `Python` skills to:\n",
    "\n",
    "Modify your code from the previous challenge to find only **.csv** files that include **snow** in the filename in the `data` directory. "
   ]
  },
  {
   "cell_type": "code",
   "execution_count": 11,
   "metadata": {},
   "outputs": [
    {
     "name": "stdout",
     "output_type": "stream",
     "text": [
      "['data\\\\snow-2007-to-2017-months-seasons.csv', 'data\\\\snowfall-2007-to-2017.csv']\n"
     ]
    }
   ],
   "source": [
    "# import necessary packages\n",
    "import glob\n",
    "import os\n",
    "\n",
    "# set the working directory to the `earth-analytics-bootcamp` directory\n",
    "os.chdir(\"c:/users/jd/earth-analytics-bootcamp/\")\n",
    "\n",
    "# make a list of all .csv files in the data directory that include 'snow' in the filename\n",
    "csv_list = glob.glob('data/*snow*.csv')\n",
    "\n",
    "# print the new list\n",
    "print(csv_list)  "
   ]
  },
  {
   "cell_type": "markdown",
   "metadata": {},
   "source": [
    "## Optional Challenge 3\n",
    "\n",
    "Test your `Python` skills to:\n",
    "\n",
    "Write a conditional statement to check that the list created in the previous challenge (.csv files with snow in the filename) only includes two files.\n"
   ]
  },
  {
   "cell_type": "code",
   "execution_count": 12,
   "metadata": {},
   "outputs": [
    {
     "name": "stdout",
     "output_type": "stream",
     "text": [
      "The number of files is correct. Code can continue to execute.\n"
     ]
    }
   ],
   "source": [
    "if len(csv_list) != 2:\n",
    "    print(\"The number of files is incorrect. Check the list of files.\")\n",
    "    print(csv_list)\n",
    "\n",
    "else:\n",
    "    print(\"The number of files is correct. Code can continue to execute.\")"
   ]
  },
  {
   "cell_type": "code",
   "execution_count": null,
   "metadata": {},
   "outputs": [],
   "source": []
  }
 ],
 "metadata": {
  "celltoolbar": "Tags",
  "kernelspec": {
   "display_name": "Python 3",
   "language": "python",
   "name": "python3"
  },
  "language_info": {
   "codemirror_mode": {
    "name": "ipython",
    "version": 3
   },
   "file_extension": ".py",
   "mimetype": "text/x-python",
   "name": "python",
   "nbconvert_exporter": "python",
   "pygments_lexer": "ipython3",
   "version": "3.7.4"
  }
 },
 "nbformat": 4,
 "nbformat_minor": 2
}
